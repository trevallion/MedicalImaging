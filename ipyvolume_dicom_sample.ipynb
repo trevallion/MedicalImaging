{
 "cells": [
  {
   "cell_type": "code",
   "execution_count": 1,
   "metadata": {},
   "outputs": [],
   "source": [
    "import numpy as np\n",
    "import ipyvolume as ipv\n",
    "from dicom_reader import get_data\n",
    "from transfer_function_helper import get_tf"
   ]
  },
  {
   "cell_type": "code",
   "execution_count": 2,
   "metadata": {},
   "outputs": [
    {
     "name": "stdout",
     "output_type": "stream",
     "text": [
      "00050\n",
      "00350\n",
      "Rescale Slope: 1.0\n",
      "Rescale Intercept : -1000.0\n",
      "Pixel Height: 0.58984375\n",
      "Pixel Width: 0.58984375\n",
      "Slice Thickness: 1.0\n",
      "Bottom of Window: -125.0\n",
      "Top of Window: 225.0\n",
      "Normalizing Value: 1024\n"
     ]
    }
   ],
   "source": [
    "xExtent,yExtent,zExtent,pixelData = get_data('test_data')\n",
    "tf = get_tf()"
   ]
  },
  {
   "cell_type": "code",
   "execution_count": 3,
   "metadata": {},
   "outputs": [
    {
     "name": "stderr",
     "output_type": "stream",
     "text": [
      "C:\\Users\\treva\\anaconda3\\envs\\MedicalImaging\\lib\\site-packages\\ipyvolume\\widgets.py:241: FutureWarning: Using a non-tuple sequence for multidimensional indexing is deprecated; use `arr[tuple(seq)]` instead of `arr[seq]`. In the future this will be interpreted as an array index, `arr[np.array(seq)]`, which will result either in an error or a different result.\n",
      "  data_view = self.data_original[view]\n",
      "C:\\Users\\treva\\anaconda3\\envs\\MedicalImaging\\lib\\site-packages\\ipyvolume\\utils.py:207: FutureWarning: Using a non-tuple sequence for multidimensional indexing is deprecated; use `arr[tuple(seq)]` instead of `arr[seq]`. In the future this will be interpreted as an array index, `arr[np.array(seq)]`, which will result either in an error or a different result.\n",
      "  data = (data[slices1] + data[slices2]) / 2\n",
      "C:\\Users\\treva\\anaconda3\\envs\\MedicalImaging\\lib\\site-packages\\ipyvolume\\serialize.py:92: RuntimeWarning: invalid value encountered in true_divide\n",
      "  gradient = gradient / np.sqrt(gradient[0] ** 2 + gradient[1] ** 2 + gradient[2] ** 2)\n"
     ]
    },
    {
     "data": {
      "application/vnd.jupyter.widget-view+json": {
       "model_id": "b870330bdd494a5d996e0c8bf74ef4bb",
       "version_major": 2,
       "version_minor": 0
      },
      "text/plain": [
       "VBox(children=(Figure(camera=PerspectiveCamera(fov=45.0, position=(0.0, 0.0, 2.0), quaternion=(0.0, 0.0, 0.0, …"
      ]
     },
     "metadata": {},
     "output_type": "display_data"
    }
   ],
   "source": [
    "ipv.quickvolshow(pixelData,\n",
    "                data_min=0,\n",
    "                data_max=1,\n",
    "                #extent=[[-xExtent/2,xExtent/2],[-yExtent/2,yExtent/2],[-zExtent/2,zExtent/2]])\n",
    "                extent=[[0,xExtent],[0,yExtent],[0,zExtent]],\n",
    "                tf=tf)"
   ]
  },
  {
   "cell_type": "code",
   "execution_count": null,
   "metadata": {},
   "outputs": [],
   "source": []
  }
 ],
 "metadata": {
  "kernelspec": {
   "display_name": "Python 3",
   "language": "python",
   "name": "python3"
  },
  "language_info": {
   "codemirror_mode": {
    "name": "ipython",
    "version": 3
   },
   "file_extension": ".py",
   "mimetype": "text/x-python",
   "name": "python",
   "nbconvert_exporter": "python",
   "pygments_lexer": "ipython3",
   "version": "3.6.6"
  }
 },
 "nbformat": 4,
 "nbformat_minor": 4
}
